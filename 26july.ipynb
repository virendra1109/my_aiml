{
 "cells": [
  {
   "cell_type": "code",
   "execution_count": 2,
   "metadata": {},
   "outputs": [],
   "source": [
    "import nltk"
   ]
  },
  {
   "cell_type": "code",
   "execution_count": 3,
   "metadata": {},
   "outputs": [],
   "source": [
    "# Rule Based Chatbot\n",
    "# Chatbot"
   ]
  },
  {
   "cell_type": "code",
   "execution_count": 4,
   "metadata": {},
   "outputs": [],
   "source": [
    "from nltk.chat.util import Chat,reflections"
   ]
  },
  {
   "cell_type": "markdown",
   "metadata": {},
   "source": [
    " raw string(r-string), f-string, b-string"
   ]
  },
  {
   "cell_type": "code",
   "execution_count": 5,
   "metadata": {},
   "outputs": [],
   "source": [
    "que1 = r'how are you'\n",
    "answ1= [\n",
    "        ' all well',\n",
    "        'I am good',\n",
    "         'awsome'\n",
    "        ]\n",
    "que2 = r'what can you do'\n",
    "answ2= [\n",
    "        'I can reply your queries',\n",
    "        'I am here to chat with you',\n",
    "        ] \n",
    "que3 = r'(.*) your name'\n",
    "answ3= [\n",
    "        'My name is Chatty',\n",
    "        'I am chatty'\n",
    "        ]\n",
    "que4 = r'(.*)mausam (.*)baarish'\n",
    "answ4= [\n",
    "        'baarish ka mausam hai',\n",
    "        'It will look rain today',\n",
    "        'Baarish ho skti hai mausam kharab hai'\n",
    "        ]        \n",
    "qa_pair = [(que1,answ1),\n",
    "           (que2,answ2),\n",
    "           (que3,answ3),\n",
    "           (que4,answ4),\n",
    "          ]\n"
   ]
  },
  {
   "cell_type": "code",
   "execution_count": 6,
   "metadata": {},
   "outputs": [],
   "source": [
    "chatbot = Chat(qa_pair)"
   ]
  },
  {
   "cell_type": "code",
   "execution_count": 7,
   "metadata": {},
   "outputs": [
    {
     "name": "stdout",
     "output_type": "stream",
     "text": [
      "Q: what is your name\n",
      "A: My name is Chatty\n"
     ]
    }
   ],
   "source": [
    "question = input(\"Enter Your Question\")\n",
    "print('Q:',question)\n",
    "reply = chatbot.respond(question)\n",
    "print('A:',reply )"
   ]
  },
  {
   "cell_type": "markdown",
   "metadata": {},
   "source": [
    "# Regular Expression Symbols\n",
    "\n",
    "()--------->Group\n",
    "\n",
    ".---------->Any character (excpet new line)\n",
    "\n",
    "*---------->zero or more occurences\n",
    "\n",
    "[]--------->set of characters\n",
    "\n",
    "a-z-------->all small alphabets\n",
    "\n",
    "A-Z-------->All caps alphabets\n",
    "\n",
    "0-9-------->all numbers\n",
    "\n",
    "^---------->starting with\n",
    "\n",
    "$---------->ends with\n",
    "\n",
    "?---------->zero or one occurence\n",
    "\n",
    "+---------->one or more occurences\n",
    "\n",
    "{}--------->exact number of occurences\n",
    "\n",
    "\\w--------->only word character\n",
    "\n",
    "\\W--------->not word characters"
   ]
  },
  {
   "cell_type": "code",
   "execution_count": 13,
   "metadata": {},
   "outputs": [
    {
     "name": "stdout",
     "output_type": "stream",
     "text": [
      "Speak:\n",
      "Question: what can you do\n",
      "Answer: I am here to chat with you\n"
     ]
    }
   ],
   "source": [
    "import speech_recognition as sr\n",
    "import pyaudio\n",
    "import pyttsx3\n",
    "\n",
    "chatbot = Chat(qa_pair)\n",
    "\n",
    "spk = pyttsx3.init()\n",
    "spk.setProperty('rate',130)    #words per minute\n",
    "spk.setProperty('volume',1.0)  #100% volume by 1.0\n",
    "\n",
    "rec = sr.Recognizer()\n",
    "\n",
    "with sr.Microphone() as mic:\n",
    "    print('Speak:')\n",
    "    audio = rec.listen(mic ,timeout=1,phrase_time_limit=2)\n",
    "\n",
    "    try:\n",
    "        text = rec.recognize_google(audio)\n",
    "        print('Question:',text)\n",
    "\n",
    "        reply = chatbot.respond(text)\n",
    "        print('Answer:',reply)\n",
    "\n",
    "        spk.say(reply)\n",
    "        spk.runAndWait()\n",
    "    except Exception as err:\n",
    "        print('error:',err,end='\\n\\n')"
   ]
  }
 ],
 "metadata": {
  "kernelspec": {
   "display_name": "Python 3",
   "language": "python",
   "name": "python3"
  },
  "language_info": {
   "codemirror_mode": {
    "name": "ipython",
    "version": 3
   },
   "file_extension": ".py",
   "mimetype": "text/x-python",
   "name": "python",
   "nbconvert_exporter": "python",
   "pygments_lexer": "ipython3",
   "version": "3.10.11"
  },
  "orig_nbformat": 4
 },
 "nbformat": 4,
 "nbformat_minor": 2
}
